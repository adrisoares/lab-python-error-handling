{
 "cells": [
  {
   "cell_type": "markdown",
   "id": "25d7736c-ba17-4aff-b6bb-66eba20fbf4e",
   "metadata": {
    "id": "25d7736c-ba17-4aff-b6bb-66eba20fbf4e"
   },
   "source": [
    "# Lab | Error Handling"
   ]
  },
  {
   "cell_type": "markdown",
   "id": "bc99b386-7508-47a0-bcdb-d969deaf6c8b",
   "metadata": {
    "id": "bc99b386-7508-47a0-bcdb-d969deaf6c8b"
   },
   "source": [
    "## Exercise: Error Handling for Managing Customer Orders\n",
    "\n",
    "The implementation of your code for managing customer orders assumes that the user will always enter a valid input.\n",
    "\n",
    "For example, we could modify the `initialize_inventory` function to include error handling.\n",
    "   - If the user enters an invalid quantity (e.g., a negative value or a non-numeric value), display an error message and ask them to re-enter the quantity for that product.\n",
    "   - Use a try-except block to handle the error and continue prompting the user until a valid quantity is entered.\n",
    "\n",
    "```python\n",
    "# Step 1: Define the function for initializing the inventory with error handling\n",
    "def initialize_inventory(products):\n",
    "    inventory = {}\n",
    "    for product in products:\n",
    "        valid_quantity = False\n",
    "        while not valid_quantity:\n",
    "            try:\n",
    "                quantity = int(input(f\"Enter the quantity of {product}s available: \"))\n",
    "                if quantity < 0:\n",
    "                    raise ValueError(\"Invalid quantity! Please enter a non-negative value.\")\n",
    "                valid_quantity = True\n",
    "            except ValueError as error:\n",
    "                print(f\"Error: {error}\")\n",
    "        inventory[product] = quantity\n",
    "    return inventory\n",
    "\n",
    "# Or, in another way:\n",
    "\n",
    "def initialize_inventory(products):\n",
    "    inventory = {}\n",
    "    for product in products:\n",
    "        valid_input = False\n",
    "        while not valid_input:\n",
    "            try:\n",
    "                quantity = int(input(f\"Enter the quantity of {product}s available: \"))\n",
    "                if quantity >= 0:\n",
    "                    inventory[product] = quantity\n",
    "                    valid_input = True\n",
    "                else:\n",
    "                    print(\"Quantity cannot be negative. Please enter a valid quantity.\")\n",
    "            except ValueError:\n",
    "                print(\"Invalid input. Please enter a valid quantity.\")\n",
    "    return inventory\n",
    "```\n",
    "\n",
    "Let's enhance your code by implementing error handling to handle invalid inputs.\n",
    "\n",
    "Follow the steps below to complete the exercise:\n",
    "\n",
    "2. Modify the `calculate_total_price` function to include error handling.\n",
    "   - If the user enters an invalid price (e.g., a negative value or a non-numeric value), display an error message and ask them to re-enter the price for that product.\n",
    "   - Use a try-except block to handle the error and continue prompting the user until a valid price is entered.\n",
    "\n",
    "3. Modify the `get_customer_orders` function to include error handling.\n",
    "   - If the user enters an invalid number of orders (e.g., a negative value or a non-numeric value), display an error message and ask them to re-enter the number of orders.\n",
    "   - If the user enters an invalid product name (e.g., a product name that is not in the inventory), or that doesn't have stock available, display an error message and ask them to re-enter the product name. *Hint: you will need to pass inventory as a parameter*\n",
    "   - Use a try-except block to handle the error and continue prompting the user until a valid product name is entered.\n",
    "\n",
    "4. Test your code by running the program and deliberately entering invalid quantities and product names. Make sure the error handling mechanism works as expected.\n"
   ]
  },
  {
   "cell_type": "code",
   "execution_count": null,
   "id": "PCE63JKDIqH5",
   "metadata": {
    "id": "PCE63JKDIqH5"
   },
   "outputs": [],
   "source": [
    "#1.\n",
    "products = [\"t-shirt\", \"mug\", \"book\", \"hat\", \"keychain\"]\n",
    "\n",
    "def initialize_inventory(products):\n",
    "  inventory = {}\n",
    "  for item in products:\n",
    "    valid_quantity = False\n",
    "    while not valid_quantity:\n",
    "      try: \n",
    "        amount = int(input(f\"Insert the amount of {item} available: \"))\n",
    "        if amount < 0:\n",
    "          raise ValueError(\"Not sure about that amount. Please enter the amount of products.\")\n",
    "        valid_quantity = True\n",
    "        if amount == 0:\n",
    "          raise ValueError(\"Confirm that the re-stock order has been done!\")\n",
    "      except ValueError as error:\n",
    "        print(f\"Error: {error}\")\n",
    "    inventory[item] = amount\n",
    "  return inventory\n",
    "\n",
    "initialize_inventory(products)"
   ]
  },
  {
   "cell_type": "code",
   "execution_count": null,
   "id": "tsp9sXQ4Ip9f",
   "metadata": {
    "id": "tsp9sXQ4Ip9f"
   },
   "outputs": [],
   "source": [
    "# 2.\n",
    "products = [\"t-shirt\", \"mug\", \"book\", \"hat\", \"keychain\"]\n",
    "\n",
    "def total_price(products):\n",
    "    total = 0\n",
    "    for item in products:\n",
    "        while True:\n",
    "            try:\n",
    "                price = float(input(f\"Please insert unit price for {item}? \"))\n",
    "                if price <= 0:\n",
    "                    raise ValueError\n",
    "                if price > 0:  \n",
    "                  break  \n",
    "            except ValueError:\n",
    "                print(\"Heads up! We are not giving anything away, guys!\")\n",
    "        total += price\n",
    "    return total\n",
    "\n",
    "print(\"Total amount is\", total_price(products))"
   ]
  },
  {
   "cell_type": "code",
   "execution_count": null,
   "id": "5c065cbe",
   "metadata": {},
   "outputs": [],
   "source": [
    "# 3. Actually is not what the exercise asks, but... it is what it is :D \n",
    "products = [\"t-shirt\", \"mug\", \"hat\", \"book\", \"keychain\"]\n",
    "\n",
    "def get_customer_orders():\n",
    "  customer_orders = set()\n",
    "  for item in products:\n",
    "    valid_quantity = False\n",
    "    while not valid_quantity:\n",
    "      try:\n",
    "        order = int(input(f\"From {products} the quantity of {item}s you wish: \"))\n",
    "        if order < 0:\n",
    "          raise ValueError(\"Sorry, could you confirm the amount? \")\n",
    "        if order == 0:\n",
    "          print(\"Next time you should order this actually :) \")\n",
    "        valid_quantity = True\n",
    "      except ValueError as error:\n",
    "        print(f\"Error: {error}\")\n",
    "    customer_orders.add(order)\n",
    "  return customer_orders\n",
    "\n",
    "print(\"Customer orders:\", get_customer_orders())"
   ]
  },
  {
   "cell_type": "code",
   "execution_count": null,
   "id": "af7b8147",
   "metadata": {},
   "outputs": [],
   "source": [
    "# 4. \n",
    "import pygame\n",
    "pygame.mixer.init()\n",
    "\n",
    "sound_game = pygame.mixer.Sound('game_over.mp3')\n",
    "sound_game.play()"
   ]
  },
  {
   "cell_type": "code",
   "execution_count": null,
   "id": "02a6bbc5",
   "metadata": {},
   "outputs": [],
   "source": []
  }
 ],
 "metadata": {
  "colab": {
   "provenance": []
  },
  "kernelspec": {
   "display_name": "Python 3 (ipykernel)",
   "language": "python",
   "name": "python3"
  },
  "language_info": {
   "codemirror_mode": {
    "name": "ipython",
    "version": 3
   },
   "file_extension": ".py",
   "mimetype": "text/x-python",
   "name": "python",
   "nbconvert_exporter": "python",
   "pygments_lexer": "ipython3",
   "version": "3.11.4"
  }
 },
 "nbformat": 4,
 "nbformat_minor": 5
}
